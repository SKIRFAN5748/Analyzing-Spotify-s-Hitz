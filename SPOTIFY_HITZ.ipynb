{
  "cells": [
    {
      "cell_type": "code",
      "execution_count": null,
      "metadata": {
        "id": "taHdhWoG7nHB"
      },
      "outputs": [],
      "source": [
        "import numpy as np\n",
        "import pandas as pd\n",
        "import matplotlib.pyplot as plt\n",
        "import seaborn as sns\n",
        "from sklearn.model_selection import train_test_split\n",
        "from sklearn.ensemble import GradientBoostingRegressor\n",
        "from sklearn.metrics import mean_squared_error, r2_score"
      ]
    },
    {
      "cell_type": "code",
      "execution_count": null,
      "metadata": {
        "id": "mMFWBUSpzCAv"
      },
      "outputs": [],
      "source": [
        "\n",
        "\n",
        "# Load the dataset\n",
        "\n",
        "data = pd.read_csv('https://github.com/SKIRFAN5748/Analyzing-Spotify-s-Hitz/blob/main/spotify2023.csv', encoding = 'unicode_escape', engine ='python')\n",
        "\n",
        "df=data.copy()\n",
        "df.describe()\n"
      ]
    },
    {
      "cell_type": "code",
      "execution_count": null,
      "metadata": {
        "id": "zkC3kcwS85mp"
      },
      "outputs": [],
      "source": [
        "# Display basic information about the dataset\n",
        "print(df.info())"
      ]
    },
    {
      "cell_type": "code",
      "execution_count": null,
      "metadata": {
        "id": "KDHYvFGzpYnv"
      },
      "outputs": [],
      "source": [
        "df=pd.DataFrame(df)\n",
        "df"
      ]
    },
    {
      "cell_type": "code",
      "execution_count": null,
      "metadata": {
        "id": "0n0FpyKYpk5K"
      },
      "outputs": [],
      "source": [
        "#searching for Null values\n",
        "print(\"Null values count :\")\n",
        "print(df.isnull().sum()) #sum of Null values in a colum"
      ]
    },
    {
      "cell_type": "code",
      "execution_count": null,
      "metadata": {
        "id": "TiZdbUkPEPCU"
      },
      "outputs": [],
      "source": [
        "sns.heatmap(df.isnull(),yticklabels=False,cbar=True,cmap='viridis')"
      ]
    },
    {
      "cell_type": "code",
      "execution_count": null,
      "metadata": {
        "id": "tptqBc9aQeEz"
      },
      "outputs": [],
      "source": [
        "#filling null values\n",
        "print (df)\n",
        "df.fillna(0, inplace = True)    # filling with 0 value\n",
        "df"
      ]
    },
    {
      "cell_type": "code",
      "execution_count": null,
      "metadata": {
        "id": "jFdlkk-MmRax"
      },
      "outputs": [],
      "source": [
        "#searching for Null values\n",
        "print(\"Null values count :\")\n",
        "print(df.isnull().sum()) #sum of Null values in a colum\n",
        "\n",
        "\n",
        "\n"
      ]
    },
    {
      "cell_type": "code",
      "execution_count": null,
      "metadata": {
        "id": "wLQ2bIDiTthK"
      },
      "outputs": [],
      "source": [
        "sns.heatmap(df.isnull(),yticklabels=False,cbar=True,cmap='viridis')"
      ]
    },
    {
      "cell_type": "code",
      "execution_count": null,
      "metadata": {
        "id": "VRjEt8ikP6LX"
      },
      "outputs": [],
      "source": [
        "df[df.duplicated()]"
      ]
    },
    {
      "cell_type": "markdown",
      "metadata": {
        "id": "9jQsS2yjXiqu"
      },
      "source": [
        "**Music Analysis  Explore Audio Features**"
      ]
    },
    {
      "cell_type": "code",
      "execution_count": null,
      "metadata": {
        "id": "EXeH04wkXn_f"
      },
      "outputs": [],
      "source": [
        "# Explore audio feature distributions\n",
        "audio_features = ['bpm', 'danceability_%', 'valence_%', 'energy_%', 'acousticness_%']\n",
        "sns.pairplot(df[audio_features])\n",
        "plt.show()\n"
      ]
    },
    {
      "cell_type": "code",
      "execution_count": null,
      "metadata": {
        "id": "qI8mPtCfYN-a"
      },
      "outputs": [],
      "source": [
        "df.plot.hist()"
      ]
    },
    {
      "cell_type": "code",
      "execution_count": null,
      "metadata": {
        "id": "nb0tlli1vWGD"
      },
      "outputs": [],
      "source": [
        "df.released_year.plot.hist()"
      ]
    },
    {
      "cell_type": "markdown",
      "metadata": {
        "id": "PdTNz4Ka3Kyq"
      },
      "source": [
        "Platform Comparison"
      ]
    },
    {
      "cell_type": "code",
      "execution_count": null,
      "metadata": {
        "id": "jsUvuzBy2bt0"
      },
      "outputs": [],
      "source": [
        "# Compare song popularity across different platforms\n",
        "platform_metrics = ['streams', 'in_spotify_charts', 'in_apple_charts', 'in_deezer_charts']\n",
        "platform_comparison = df[platform_metrics]\n",
        "\n",
        "# You can use visualizations or statistical tests to compare these metrics across platforms\n",
        "# For example, a bar chart or boxplot to visualize differences\n",
        "sns.boxplot(data=platform_comparison )\n",
        "plt.show()\n"
      ]
    },
    {
      "cell_type": "markdown",
      "metadata": {
        "id": "PU2DWZwZ3JGD"
      },
      "source": [
        "Artist Impact"
      ]
    },
    {
      "cell_type": "code",
      "execution_count": null,
      "metadata": {
        "id": "1WmeeL2e4BMb"
      },
      "outputs": [],
      "source": [
        "# Step 4: Artist Impact\n",
        "\n",
        "# Check data types of relevant columns\n",
        "print(df[['artist_count', 'streams']].dtypes)\n",
        "\n",
        "# Convert 'streams' column to numeric, handling errors\n",
        "df['streams'] = pd.to_numeric(df['streams'], errors='coerce')\n",
        "\n",
        "# Drop rows with missing values in 'streams' column\n",
        "df = df.dropna(subset=['streams'])\n",
        "\n",
        "# Check data types again\n",
        "print(df[['artist_count', 'streams']].dtypes)\n",
        "\n",
        "# Now, perform linear regression\n",
        "from sklearn.linear_model import LinearRegression\n",
        "\n",
        "# Prepare data\n",
        "X = df[['artist_count']]\n",
        "y = df['streams']\n",
        "\n",
        "# Create and fit the model\n",
        "model = LinearRegression()\n",
        "model.fit(X, y)\n",
        "\n",
        "# Print the coefficients\n",
        "print(\"Coefficient:\", model.coef_)\n"
      ]
    },
    {
      "cell_type": "markdown",
      "metadata": {
        "id": "h25uG606LmGN"
      },
      "source": [
        "Temporal Trends"
      ]
    },
    {
      "cell_type": "code",
      "execution_count": null,
      "metadata": {
        "id": "2_43iijWKpj2"
      },
      "outputs": [],
      "source": [
        "# Identify temporal trends\n",
        "temporal_metrics = df[['released_year', 'released_month', 'streams']]\n",
        "\n",
        "# Group by year and month and calculate the average streams\n",
        "temporal_trends = temporal_metrics.groupby(['released_year', 'released_month']).mean()\n",
        "\n",
        "# Plot the trends\n",
        "temporal_trends.plot(kind='line', y='streams',figsize=(10, 8))\n"
      ]
    },
    {
      "cell_type": "markdown",
      "metadata": {
        "id": "qcrTpfJ7Lqvw"
      },
      "source": [
        "**Cross-Platform Presence**"
      ]
    },
    {
      "cell_type": "code",
      "execution_count": null,
      "metadata": {
        "id": "F1GIK7XRLwJ9"
      },
      "outputs": [],
      "source": [
        "# Investigate how songs perform across different streaming services\n",
        "platform_comparison = df[['in_spotify_charts', 'in_apple_charts', 'in_deezer_charts', 'in_shazam_charts']]\n",
        "\n",
        "# Plot a bar chart or use descriptive statistics to compare\n",
        "platform_comparison.mean().plot(kind='bar')\n"
      ]
    },
    {
      "cell_type": "code",
      "execution_count": null,
      "metadata": {
        "id": "Kw4XM8ROOKx1"
      },
      "outputs": [],
      "source": [
        "import seaborn as sns\n",
        "import matplotlib.pyplot as plt\n",
        "\n",
        "# Assuming 'streams' is the column you want to analyze\n",
        "streams_data = df['streams']\n",
        "\n",
        "# Calculate the interquartile range (IQR)\n",
        "Q1 = streams_data.quantile(0.25)\n",
        "Q3 = streams_data.quantile(0.75)\n",
        "IQR = Q3 - Q1\n",
        "\n",
        "# Define the lower and upper bounds for outliers\n",
        "lower_bound = Q1 - 1.5 * IQR\n",
        "upper_bound = Q3 + 1.5 * IQR\n",
        "\n",
        "# Identify outliers\n",
        "outliers = (streams_data < lower_bound) | (streams_data > upper_bound)\n",
        "\n",
        "# Visualize outliers using a scatter plot\n",
        "plt.figure(figsize=(10, 10))\n",
        "plt.scatter(df.index, streams_data, label='Streams')\n",
        "plt.scatter(df.index[outliers], streams_data[outliers], color='red', label='Outliers')\n",
        "\n",
        "# Add labels and title\n",
        "plt.xlabel('Songs')\n",
        "plt.ylabel('Streams')\n",
        "plt.title('Identification of Outliers in Streams')\n",
        "\n",
        "# Show the plot\n",
        "plt.legend()\n",
        "plt.show()\n"
      ]
    },
    {
      "cell_type": "code",
      "execution_count": null,
      "metadata": {
        "id": "fUJ45K6KT9Pd"
      },
      "outputs": [],
      "source": [
        "\n",
        "\n",
        "# Assuming 'streams' is the target variable and 'bpm', 'danceability_%', 'valence_%', 'energy_%' are the features\n",
        "X = df[['bpm', 'danceability_%', 'valence_%', 'energy_%']]\n",
        "y = df['streams']\n",
        "\n",
        "# Split the data into training and testing sets\n",
        "X_train, X_test, y_train, y_test = train_test_split(X, y, test_size=0.2, random_state=42)\n",
        "\n",
        "# Create and fit the Gradient Boosting Regressor model\n",
        "model = GradientBoostingRegressor(n_estimators=100, random_state=42)\n",
        "model.fit(X_train, y_train)\n",
        "\n",
        "# Make predictions on the test set\n",
        "y_pred = model.predict(X_test)\n",
        "\n",
        "# Evaluate the model\n",
        "mse = mean_squared_error(y_test, y_pred)\n",
        "r2 = r2_score(y_test, y_pred)\n",
        "\n",
        "print(f'Mean Squared Error: {mse}')\n",
        "print(f'R-squared: {r2}')\n",
        "\n",
        "# Visualize the predicted vs. actual values\n",
        "plt.figure(figsize=(10, 8))\n",
        "plt.scatter(y_test, y_pred)\n",
        "plt.xlabel('Actual Streams')\n",
        "plt.ylabel('Predicted Streams')\n",
        "plt.title('Actual vs. Predicted Streams (Gradient Boosting Regressor)')\n",
        "plt.show()\n"
      ]
    },
    {
      "cell_type": "code",
      "execution_count": null,
      "metadata": {
        "id": "rWP_3d7EU2K-"
      },
      "outputs": [],
      "source": [
        "\n",
        "\n",
        "# Assuming you have columns like 'in_spotify_charts', 'in_apple_charts', 'in_deezer_charts', 'in_shazam_charts'\n",
        "platform_metrics = df[['in_spotify_charts', 'in_apple_charts', 'in_deezer_charts', 'in_shazam_charts']]\n",
        "\n",
        "# Count the number of songs in each platform's charts\n",
        "platform_counts = platform_metrics.sum()\n",
        "\n",
        "# Create a bar plot\n",
        "plt.figure(figsize=(10, 6))\n",
        "sns.barplot(x=platform_counts.index, y=platform_counts.values, palette='viridis')\n",
        "plt.xlabel('Streaming Platforms')\n",
        "plt.ylabel('Number of Songs')\n",
        "plt.title('Number of Songs in Charts/Playlists Across Platforms')\n",
        "plt.show()\n"
      ]
    },
    {
      "cell_type": "code",
      "execution_count": null,
      "metadata": {
        "id": "BjX-wVAEU3yq"
      },
      "outputs": [],
      "source": [
        "\n",
        "# Assuming you have columns like 'streams', 'released_year', and 'released_month'\n",
        "temporal_metrics = df[['streams', 'released_year', 'released_month']]\n",
        "\n",
        "# Group by year and month and calculate the average streams\n",
        "monthly_trends = temporal_metrics.groupby(['released_year', 'released_month']).mean().reset_index()\n",
        "\n",
        "# Create a line plot\n",
        "plt.figure(figsize=(12, 6))\n",
        "sns.lineplot(x=monthly_trends.index, y=monthly_trends['streams'], marker='o')\n",
        "plt.xlabel('Month')\n",
        "plt.ylabel('Average Streams')\n",
        "plt.title('Temporal Trends: Average Streams per Month')\n",
        "plt.show()\n"
      ]
    },
    {
      "cell_type": "code",
      "execution_count": null,
      "metadata": {
        "id": "dVab59bWVBK3"
      },
      "outputs": [],
      "source": [
        "\n",
        "# Assuming you have a column like 'danceability_%' representing the danceability percentage\n",
        "danceability_data = df['danceability_%']\n",
        "\n",
        "# Create a histogram\n",
        "plt.figure(figsize=(10, 6))\n",
        "sns.histplot(danceability_data, bins=20, kde=True, color='skyblue')\n",
        "plt.xlabel('Danceability Percentage')\n",
        "plt.ylabel('Frequency')\n",
        "plt.title('Distribution of Danceability Across Songs')\n",
        "plt.show()\n"
      ]
    },
    {
      "cell_type": "code",
      "execution_count": null,
      "metadata": {
        "id": "By42_zYcVbcO"
      },
      "outputs": [],
      "source": [
        "\n",
        "# Assuming you have columns for various audio features\n",
        "audio_features = df[['bpm', 'danceability_%', 'valence_%', 'energy_%', 'acousticness_%', 'instrumentalness_%']]\n",
        "\n",
        "# Calculate the cross-correlation matrix\n",
        "correlation_matrix = audio_features.corr()\n",
        "\n",
        "# Create a heatmap\n",
        "plt.figure(figsize=(10, 8))\n",
        "sns.heatmap(correlation_matrix, annot=True, cmap='coolwarm', linewidths=.5)\n",
        "plt.title('Cross-Correlation Between Audio Features')\n",
        "plt.show()\n"
      ]
    },
    {
      "cell_type": "code",
      "execution_count": null,
      "metadata": {
        "id": "uO1LjjH4VkMK"
      },
      "outputs": [],
      "source": [
        "\n",
        "\n",
        "# Assuming you have a column like 'key' representing the musical key of each song\n",
        "key_counts = df['key'].value_counts()\n",
        "\n",
        "# Create a bar plot\n",
        "plt.figure(figsize=(10, 6))\n",
        "sns.barplot(x=key_counts.index, y=key_counts.values, palette='viridis')\n",
        "plt.xlabel('Musical Key')\n",
        "plt.ylabel('Number of Songs')\n",
        "plt.title('Distribution of Songs Across Different Keys')\n",
        "plt.show()\n"
      ]
    },
    {
      "cell_type": "code",
      "execution_count": null,
      "metadata": {
        "id": "_xOuFsKhVufi"
      },
      "outputs": [],
      "source": [
        "\n",
        "\n",
        "# Assuming you have columns like 'mode' and 'bpm' in your DataFrame\n",
        "plt.figure(figsize=(10, 6))\n",
        "sns.boxplot(x='mode', y='bpm', data=df, palette='pastel')\n",
        "plt.xlabel('Mode')\n",
        "plt.ylabel('BPM (Beats Per Minute)')\n",
        "plt.title('Distribution of Song Tempo Across Major and Minor Modes')\n",
        "plt.show()\n"
      ]
    },
    {
      "cell_type": "code",
      "execution_count": null,
      "metadata": {
        "id": "34X4qdZ7Vurc"
      },
      "outputs": [],
      "source": [
        "\n",
        "\n",
        "# Assuming you have columns like 'acousticness_%' and 'streams' in your DataFrame\n",
        "plt.figure(figsize=(10, 6))\n",
        "sns.scatterplot(x='acousticness_%', y='streams', data=df, alpha=0.6, color='skyblue')\n",
        "plt.xlabel('Acousticness Percentage')\n",
        "plt.ylabel('Number of Streams')\n",
        "plt.title('Relationship Between Acousticness and Popularity')\n",
        "plt.show()\n"
      ]
    },
    {
      "cell_type": "code",
      "execution_count": null,
      "metadata": {
        "id": "tG-GMIrhVu4Y"
      },
      "outputs": [],
      "source": [
        "\n",
        "\n",
        "# Assuming you have columns like 'valence_%' and 'danceability_%' in your DataFrame\n",
        "plt.figure(figsize=(10, 6))\n",
        "sns.jointplot(x='valence_%', y='danceability_%', data=df, kind='hex', cmap='viridis')\n",
        "plt.xlabel('Valence Percentage')\n",
        "plt.ylabel('Danceability Percentage')\n",
        "plt.title('Relationship Between Valence and Danceability')\n",
        "plt.show()\n"
      ]
    },
    {
      "cell_type": "code",
      "execution_count": null,
      "metadata": {
        "id": "YJbAGGmMWlzP"
      },
      "outputs": [],
      "source": [
        "\n",
        "\n",
        "# Assuming you have columns like 'energy_%' and 'valence_%' in your DataFrame\n",
        "plt.figure(figsize=(10, 6))\n",
        "sns.kdeplot(x='energy_%', y='valence_%', data=df, cmap='Blues', fill=True)\n",
        "plt.xlabel('Energy Percentage')\n",
        "plt.ylabel('Valence Percentage')\n",
        "plt.title('Joint Distribution of Energy and Valence')\n",
        "plt.show()\n"
      ]
    },
    {
      "cell_type": "code",
      "execution_count": null,
      "metadata": {
        "id": "n25iOfiBWl8f"
      },
      "outputs": [],
      "source": [
        "\n",
        "\n",
        "# Assuming you have columns like 'key' and 'liveness_%' in your DataFrame\n",
        "plt.figure(figsize=(16, 12))\n",
        "sns.violinplot(x='key', y='liveness_%', data=df, palette='muted')\n",
        "plt.xlabel('Musical Key')\n",
        "plt.ylabel('Liveness Percentage')\n",
        "plt.title('Distribution of Liveness Across Different Keys')\n",
        "plt.show()\n"
      ]
    },
    {
      "cell_type": "code",
      "execution_count": null,
      "metadata": {
        "id": "-G7hRk7NWmYR"
      },
      "outputs": [],
      "source": [
        "\n",
        "\n",
        "# Assuming you have columns like 'energy_%' and 'in_spotify_charts' in your DataFrame\n",
        "plt.figure(figsize=(22, 12))\n",
        "sns.boxplot(x='in_spotify_charts', y='energy_%', data=df, palette='Set2')\n",
        "plt.xlabel('In Spotify Charts')\n",
        "plt.ylabel('Energy Percentage')\n",
        "plt.title('Comparison of Energy Distribution for Songs in Spotify Charts')\n",
        "plt.show()\n"
      ]
    },
    {
      "cell_type": "code",
      "execution_count": null,
      "metadata": {
        "id": "um_46pm9c0nQ"
      },
      "outputs": [],
      "source": [
        "\n",
        "fig_dims = (24,8)\n",
        "fig, ax = plt.subplots(figsize=fig_dims)\n",
        "fig = sns.barplot(x = 'released_year', y = 'streams', ax = ax,data=df, errwidth = False).set(title='Years vs streams')\n"
      ]
    },
    {
      "cell_type": "code",
      "execution_count": null,
      "metadata": {
        "id": "lsVCwhw1c0yB"
      },
      "outputs": [],
      "source": [
        "df.released_year.plot.box()"
      ]
    },
    {
      "cell_type": "code",
      "execution_count": null,
      "metadata": {
        "id": "PgRhkeFvc06T"
      },
      "outputs": [],
      "source": []
    },
    {
      "cell_type": "code",
      "execution_count": null,
      "metadata": {
        "id": "ObrR-CoGc1C0"
      },
      "outputs": [],
      "source": []
    }
  ],
  "metadata": {
    "colab": {
      "provenance": []
    },
    "kernelspec": {
      "display_name": "Python 3",
      "name": "python3"
    },
    "language_info": {
      "name": "python"
    }
  },
  "nbformat": 4,
  "nbformat_minor": 0
}
